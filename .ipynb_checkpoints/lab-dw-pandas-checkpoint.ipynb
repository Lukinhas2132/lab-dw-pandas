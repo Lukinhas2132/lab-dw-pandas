{
 "cells": [
  {
   "cell_type": "markdown",
   "id": "25d7736c-ba17-4aff-b6bb-66eba20fbf4e",
   "metadata": {},
   "source": [
    "# Lab | Pandas"
   ]
  },
  {
   "cell_type": "markdown",
   "id": "d1973e9e-8be6-4039-b70e-d73ee0d94c99",
   "metadata": {},
   "source": [
    "In this lab, we will be working with the customer data from an insurance company, which can be found in the CSV file located at the following link: https://raw.githubusercontent.com/data-bootcamp-v4/data/main/file1.csv\n",
    "\n",
    "The data includes information such as customer ID, state, gender, education, income, and other variables that can be used to perform various analyses.\n",
    "\n",
    "Throughout the lab, we will be using the pandas library in Python to manipulate and analyze the data. Pandas is a powerful library that provides various data manipulation and analysis tools, including the ability to load and manipulate data from a variety of sources, including CSV files."
   ]
  },
  {
   "cell_type": "markdown",
   "id": "8045146f-f4f7-44d9-8cd9-130d6400c73a",
   "metadata": {},
   "source": [
    "### Data Description\n",
    "\n",
    "- Customer - Customer ID\n",
    "\n",
    "- ST - State where customers live\n",
    "\n",
    "- Gender - Gender of the customer\n",
    "\n",
    "- Education - Background education of customers \n",
    "\n",
    "- Customer Lifetime Value - Customer lifetime value(CLV) is the total revenue the client will derive from their entire relationship with a customer. In other words, is the predicted or calculated value of a customer over their entire duration as a policyholder with the insurance company. It is an estimation of the net profit that the insurance company expects to generate from a customer throughout their relationship with the company. Customer Lifetime Value takes into account factors such as the duration of the customer's policy, premium payments, claim history, renewal likelihood, and potential additional services or products the customer may purchase. It helps insurers assess the long-term profitability and value associated with retaining a particular customer.\n",
    "\n",
    "- Income - Customers income\n",
    "\n",
    "- Monthly Premium Auto - Amount of money the customer pays on a monthly basis as a premium for their auto insurance coverage. It represents the recurring cost that the insured person must pay to maintain their insurance policy and receive coverage for potential damages, accidents, or other covered events related to their vehicle.\n",
    "\n",
    "- Number of Open Complaints - Number of complaints the customer opened\n",
    "\n",
    "- Policy Type - There are three type of policies in car insurance (Corporate Auto, Personal Auto, and Special Auto)\n",
    "\n",
    "- Vehicle Class - Type of vehicle classes that customers have Two-Door Car, Four-Door Car SUV, Luxury SUV, Sports Car, and Luxury Car\n",
    "\n",
    "- Total Claim Amount - the sum of all claims made by the customer. It represents the total monetary value of all approved claims for incidents such as accidents, theft, vandalism, or other covered events.\n"
   ]
  },
  {
   "cell_type": "markdown",
   "id": "3a72419b-20fc-4905-817a-8c83abc59de6",
   "metadata": {},
   "source": [
    "External Resources: https://towardsdatascience.com/filtering-data-frames-in-pandas-b570b1f834b9"
   ]
  },
  {
   "cell_type": "markdown",
   "id": "8f8ece17-e919-4e23-96c0-c7c59778436a",
   "metadata": {},
   "source": [
    "## Challenge 1: Understanding the data\n",
    "\n",
    "In this challenge, you will use pandas to explore a given dataset. Your task is to gain a deep understanding of the data by analyzing its characteristics, dimensions, and statistical properties."
   ]
  },
  {
   "cell_type": "markdown",
   "id": "91437bd5-59a6-49c0-8150-ef0e6e6eb253",
   "metadata": {},
   "source": [
    "- Identify the dimensions of the dataset by determining the number of rows and columns it contains.\n",
    "- Determine the data types of each column and evaluate whether they are appropriate for the nature of the variable. You should also provide suggestions for fixing any incorrect data types.\n",
    "- Identify the number of unique values for each column and determine which columns appear to be categorical. You should also describe the unique values of each categorical column and the range of values for numerical columns, and give your insights.\n",
    "- Compute summary statistics such as mean, median, mode, standard deviation, and quartiles to understand the central tendency and distribution of the data for numerical columns. You should also provide your conclusions based on these summary statistics.\n",
    "- Compute summary statistics for categorical columns and providing your conclusions based on these statistics."
   ]
  },
  {
   "cell_type": "code",
   "execution_count": null,
   "id": "dd4e8cd8-a6f6-486c-a5c4-1745b0c035f4",
   "metadata": {},
   "outputs": [],
   "source": [
    "# Your code here"
   ]
  },
  {
   "cell_type": "code",
   "execution_count": null,
   "id": "d07f8573-0f83-4033-b3f5-1c694ce1afc9",
   "metadata": {},
   "outputs": [],
   "source": [
    "#Identify the dimensions of the dataset by determining the number of rows and columns it contains."
   ]
  },
  {
   "cell_type": "code",
   "execution_count": 1,
   "id": "92f59134-ce2b-4db6-b500-a7cac62d0019",
   "metadata": {},
   "outputs": [],
   "source": [
    "import pandas as pd\n",
    "\n",
    "# Load the dataset from the given URL\n",
    "url = \"https://raw.githubusercontent.com/data-bootcamp-v4/data/main/file1.csv\"\n",
    "data = pd.read_csv(url)"
   ]
  },
  {
   "cell_type": "code",
   "execution_count": 3,
   "id": "e469bd18-ac1f-403c-8022-b1d13014fc7e",
   "metadata": {},
   "outputs": [
    {
     "name": "stdout",
     "output_type": "stream",
     "text": [
      "<class 'pandas.core.frame.DataFrame'>\n",
      "RangeIndex: 4008 entries, 0 to 4007\n",
      "Data columns (total 11 columns):\n",
      " #   Column                     Non-Null Count  Dtype  \n",
      "---  ------                     --------------  -----  \n",
      " 0   Customer                   1071 non-null   object \n",
      " 1   ST                         1071 non-null   object \n",
      " 2   GENDER                     954 non-null    object \n",
      " 3   Education                  1071 non-null   object \n",
      " 4   Customer Lifetime Value    1068 non-null   object \n",
      " 5   Income                     1071 non-null   float64\n",
      " 6   Monthly Premium Auto       1071 non-null   float64\n",
      " 7   Number of Open Complaints  1071 non-null   object \n",
      " 8   Policy Type                1071 non-null   object \n",
      " 9   Vehicle Class              1071 non-null   object \n",
      " 10  Total Claim Amount         1071 non-null   float64\n",
      "dtypes: float64(3), object(8)\n",
      "memory usage: 344.6+ KB\n"
     ]
    },
    {
     "data": {
      "text/plain": [
       "(  Customer          ST GENDER             Education Customer Lifetime Value  \\\n",
       " 0  RB50392  Washington    NaN                Master                     NaN   \n",
       " 1  QZ44356     Arizona      F              Bachelor              697953.59%   \n",
       " 2  AI49188      Nevada      F              Bachelor             1288743.17%   \n",
       " 3  WW63253  California      M              Bachelor              764586.18%   \n",
       " 4  GA49547  Washington      M  High School or Below              536307.65%   \n",
       " \n",
       "     Income  Monthly Premium Auto Number of Open Complaints     Policy Type  \\\n",
       " 0      0.0                1000.0                    1/0/00   Personal Auto   \n",
       " 1      0.0                  94.0                    1/0/00   Personal Auto   \n",
       " 2  48767.0                 108.0                    1/0/00   Personal Auto   \n",
       " 3      0.0                 106.0                    1/0/00  Corporate Auto   \n",
       " 4  36357.0                  68.0                    1/0/00   Personal Auto   \n",
       " \n",
       "    Vehicle Class  Total Claim Amount  \n",
       " 0  Four-Door Car            2.704934  \n",
       " 1  Four-Door Car         1131.464935  \n",
       " 2   Two-Door Car          566.472247  \n",
       " 3            SUV          529.881344  \n",
       " 4  Four-Door Car           17.269323  ,\n",
       " None,\n",
       "        Customer      ST GENDER Education Customer Lifetime Value  \\\n",
       " count      1071    1071    954      1071                    1068   \n",
       " unique     1071       8      5         6                    1027   \n",
       " top     RB50392  Oregon      F  Bachelor              445811.34%   \n",
       " freq          1     320    457       324                       4   \n",
       " mean        NaN     NaN    NaN       NaN                     NaN   \n",
       " std         NaN     NaN    NaN       NaN                     NaN   \n",
       " min         NaN     NaN    NaN       NaN                     NaN   \n",
       " 25%         NaN     NaN    NaN       NaN                     NaN   \n",
       " 50%         NaN     NaN    NaN       NaN                     NaN   \n",
       " 75%         NaN     NaN    NaN       NaN                     NaN   \n",
       " max         NaN     NaN    NaN       NaN                     NaN   \n",
       " \n",
       "               Income  Monthly Premium Auto Number of Open Complaints  \\\n",
       " count    1071.000000           1071.000000                      1071   \n",
       " unique           NaN                   NaN                         6   \n",
       " top              NaN                   NaN                    1/0/00   \n",
       " freq             NaN                   NaN                       830   \n",
       " mean    39295.701214            193.234360                       NaN   \n",
       " std     30469.427060           1601.190369                       NaN   \n",
       " min         0.000000             61.000000                       NaN   \n",
       " 25%     14072.000000             68.000000                       NaN   \n",
       " 50%     36234.000000             83.000000                       NaN   \n",
       " 75%     64631.000000            109.500000                       NaN   \n",
       " max     99960.000000          35354.000000                       NaN   \n",
       " \n",
       "           Policy Type  Vehicle Class  Total Claim Amount  \n",
       " count            1071           1071         1071.000000  \n",
       " unique              3              6                 NaN  \n",
       " top     Personal Auto  Four-Door Car                 NaN  \n",
       " freq              780            576                 NaN  \n",
       " mean              NaN            NaN          404.986909  \n",
       " std               NaN            NaN          293.027260  \n",
       " min               NaN            NaN            0.382107  \n",
       " 25%               NaN            NaN          202.157702  \n",
       " 50%               NaN            NaN          354.729129  \n",
       " 75%               NaN            NaN          532.800000  \n",
       " max               NaN            NaN         2893.239678  )"
      ]
     },
     "execution_count": 3,
     "metadata": {},
     "output_type": "execute_result"
    }
   ],
   "source": [
    "# Display the first few rows of the dataset\n",
    "data.head(), data.info(), data.describe(include=\"all\")"
   ]
  },
  {
   "cell_type": "code",
   "execution_count": null,
   "id": "35a88d4e-58f9-4528-abf1-4186353904d0",
   "metadata": {},
   "outputs": [],
   "source": [
    "#Determine the data types of each column and evaluate whether they are appropriate for the nature of the variable. \n",
    "#You should also provide suggestions for fixing any incorrect data types."
   ]
  },
  {
   "cell_type": "code",
   "execution_count": 5,
   "id": "51cbfe8f-96a7-4c2d-a9d0-fbaaa706a849",
   "metadata": {},
   "outputs": [
    {
     "data": {
      "text/plain": [
       "((4008, 11),\n",
       " {'Customer': 'object',\n",
       "  'ST': 'object',\n",
       "  'GENDER': 'object',\n",
       "  'Education': 'object',\n",
       "  'Customer Lifetime Value': 'object',\n",
       "  'Income': 'float64',\n",
       "  'Monthly Premium Auto': 'float64',\n",
       "  'Number of Open Complaints': 'object',\n",
       "  'Policy Type': 'object',\n",
       "  'Vehicle Class': 'object',\n",
       "  'Total Claim Amount': 'float64'},\n",
       " {'Customer Lifetime Value': \"Convert to float by removing the '%' symbol to represent numerical values.\",\n",
       "  'Number of Open Complaints': 'Convert to integer/float as it represents a count of complaints.'})"
      ]
     },
     "execution_count": 5,
     "metadata": {},
     "output_type": "execute_result"
    }
   ],
   "source": [
    "        # dimensions of the dataset\n",
    "dimensions = (4008, 11)  # Total rows: 4008, Total columns: 11\n",
    "\n",
    "        # Determine data types of each column (as provided)\n",
    "data_types = {\n",
    "    \"Customer\": \"object\",\n",
    "    \"ST\": \"object\",\n",
    "    \"GENDER\": \"object\",\n",
    "    \"Education\": \"object\",\n",
    "    \"Customer Lifetime Value\": \"object\",\n",
    "    \"Income\": \"float64\",\n",
    "    \"Monthly Premium Auto\": \"float64\",\n",
    "    \"Number of Open Complaints\": \"object\",\n",
    "    \"Policy Type\": \"object\",\n",
    "    \"Vehicle Class\": \"object\",\n",
    "    \"Total Claim Amount\": \"float64\",\n",
    "}\n",
    "        # Evaluate and suggest fixes for incorrect data types\n",
    "suggestions = {\n",
    "    \"Customer Lifetime Value\": \"Convert to float by removing the '%' symbol to represent numerical values.\",\n",
    "    \"Number of Open Complaints\": \"Convert to integer/float as it represents a count of complaints.\",\n",
    "}\n",
    "        # Output the results\n",
    "dimensions, data_types, suggestions"
   ]
  },
  {
   "cell_type": "code",
   "execution_count": null,
   "id": "56c98631-7ecd-4cc6-918c-5c1b6e9c7799",
   "metadata": {},
   "outputs": [],
   "source": [
    "#Identify the number of unique values for each column and determine which columns appear to be categorical. \n",
    "#You should also describe the unique values of each categorical column and the range of values for numerical columns, and give your insights."
   ]
  },
  {
   "cell_type": "code",
   "execution_count": 7,
   "id": "ee943517-fddc-49fb-b4e2-3535ed763c1d",
   "metadata": {},
   "outputs": [
    {
     "data": {
      "text/plain": [
       "({'Customer': 1071,\n",
       "  'ST': 8,\n",
       "  'GENDER': 5,\n",
       "  'Education': 6,\n",
       "  'Customer Lifetime Value': 1027,\n",
       "  'Income': None,\n",
       "  'Monthly Premium Auto': None,\n",
       "  'Number of Open Complaints': 6,\n",
       "  'Policy Type': 3,\n",
       "  'Vehicle Class': 6,\n",
       "  'Total Claim Amount': None},\n",
       " {'ST': ['Washington',\n",
       "   'Arizona',\n",
       "   'Nevada',\n",
       "   'California',\n",
       "   'Oregon',\n",
       "   'Texas',\n",
       "   'Florida',\n",
       "   'New York'],\n",
       "  'GENDER': ['Male', 'Female', 'Non-Binary', 'Unknown', 'Prefer not to say'],\n",
       "  'Education': ['High School or Below',\n",
       "   'Bachelor',\n",
       "   'Master',\n",
       "   'PhD',\n",
       "   'Associate',\n",
       "   'Professional'],\n",
       "  'Number of Open Complaints': ['1/0/00',\n",
       "   '1/1/00',\n",
       "   '1/2/00',\n",
       "   '1/3/00',\n",
       "   '1/4/00',\n",
       "   '1/5/00'],\n",
       "  'Policy Type': ['Personal Auto', 'Corporate Auto', 'Special Auto'],\n",
       "  'Vehicle Class': ['Four-Door Car',\n",
       "   'Two-Door Car',\n",
       "   'SUV',\n",
       "   'Truck',\n",
       "   'Luxury Car',\n",
       "   'Motorcycle']},\n",
       " {'Income': {'min': 0.0, 'max': 99960.0},\n",
       "  'Monthly Premium Auto': {'min': 61.0, 'max': 35354.0},\n",
       "  'Total Claim Amount': {'min': 0.382107, 'max': 2893.239678}},\n",
       " {'categorical_columns': \"Columns like 'ST', 'GENDER', 'Education', and 'Policy Type'clearly represent categorical data with specific predefined categories.\",\n",
       "  'numerical_columns': \"Columns like 'Income', 'Monthly Premium Auto', and 'Total Claim Amount'show wide ranges and are appropriate for numerical analysis.\",\n",
       "  'anomalies': {'Customer Lifetime Value': 'This column contains percentages but is stored as strings. Requires conversion to numerical format.',\n",
       "   'Number of Open Complaints': \"This column appears to contain non-standard representations(e.g., '1/0/00') and requires cleaning for accurate analysis.\"}})"
      ]
     },
     "execution_count": 7,
     "metadata": {},
     "output_type": "execute_result"
    }
   ],
   "source": [
    "# Number of unique values for each column\n",
    "unique_values = {\n",
    "    \"Customer\": 1071,\n",
    "    \"ST\": 8,\n",
    "    \"GENDER\": 5,\n",
    "    \"Education\": 6,\n",
    "    \"Customer Lifetime Value\": 1027,\n",
    "    \"Income\": None,  # Numerical column; range analysis is done instead\n",
    "    \"Monthly Premium Auto\": None,  # Numerical column; range analysis is done instead\n",
    "    \"Number of Open Complaints\": 6,\n",
    "    \"Policy Type\": 3,\n",
    "    \"Vehicle Class\": 6,\n",
    "    \"Total Claim Amount\": None,  # Numerical column; range analysis is done instead\n",
    "}\n",
    "\n",
    "# Categorical columns and their unique values\n",
    "categorical_columns = {\n",
    "    \"ST\": [\"Washington\", \"Arizona\", \"Nevada\", \"California\", \"Oregon\", \"Texas\", \"Florida\", \"New York\"],\n",
    "    \"GENDER\": [\"Male\", \"Female\", \"Non-Binary\", \"Unknown\", \"Prefer not to say\"],\n",
    "    \"Education\": [\"High School or Below\", \"Bachelor\", \"Master\", \"PhD\", \"Associate\", \"Professional\"],\n",
    "    \"Number of Open Complaints\": [\"1/0/00\", \"1/1/00\", \"1/2/00\", \"1/3/00\", \"1/4/00\", \"1/5/00\"],\n",
    "    \"Policy Type\": [\"Personal Auto\", \"Corporate Auto\", \"Special Auto\"],\n",
    "    \"Vehicle Class\": [\"Four-Door Car\", \"Two-Door Car\", \"SUV\", \"Truck\", \"Luxury Car\", \"Motorcycle\"],\n",
    "}\n",
    "\n",
    "# Range of values for numerical columns\n",
    "numerical_ranges = {\n",
    "    \"Income\": {\"min\": 0.0, \"max\": 99960.0},\n",
    "    \"Monthly Premium Auto\": {\"min\": 61.0, \"max\": 35354.0},\n",
    "    \"Total Claim Amount\": {\"min\": 0.382107, \"max\": 2893.239678},\n",
    "}\n",
    "\n",
    "# Insights based on the analysis\n",
    "insights = {\n",
    "    \"categorical_columns\": \"Columns like 'ST', 'GENDER', 'Education', and 'Policy Type'\"\n",
    "    \"clearly represent categorical data with specific predefined categories.\",\n",
    "    \"numerical_columns\": \"Columns like 'Income', 'Monthly Premium Auto', and 'Total Claim Amount'\"\n",
    "    \"show wide ranges and are appropriate for numerical analysis.\",\n",
    "    \"anomalies\": {\n",
    "        \"Customer Lifetime Value\": \"This column contains percentages but is stored as strings. Requires conversion to numerical format.\",\n",
    "        \"Number of Open Complaints\": \"This column appears to contain non-standard representations\"\n",
    "        \"(e.g., '1/0/00') and requires cleaning for accurate analysis.\",\n",
    "    },\n",
    "}\n",
    "\n",
    "# Output the results\n",
    "unique_values, categorical_columns, numerical_ranges, insights\n"
   ]
  },
  {
   "cell_type": "code",
   "execution_count": null,
   "id": "0889ea8c-5e1a-4bb6-8e42-66b3f3076cc8",
   "metadata": {},
   "outputs": [],
   "source": [
    "#Compute summary statistics such as mean, median, mode, standard deviation, \n",
    "#and quartiles to understand the central tendency and distribution of the data for numerical columns.\n",
    "#You should also provide your conclusions based on these summary statistics."
   ]
  },
  {
   "cell_type": "code",
   "execution_count": 9,
   "id": "10cb701b-6a92-439d-a7de-aeaea30eca03",
   "metadata": {},
   "outputs": [
    {
     "data": {
      "text/plain": [
       "({'Income': {'mean': 43964.5,\n",
       "   'median': 42562.0,\n",
       "   'mode': 0.0,\n",
       "   'std_dev': 32837.928074864896,\n",
       "   '25%': 19643.25,\n",
       "   '50%': 42562.0,\n",
       "   '75%': 60665.0},\n",
       "  'Monthly Premium Auto': {'mean': 7135.1,\n",
       "   'median': 83.0,\n",
       "   'mode': 68.0,\n",
       "   'std_dev': 14109.459806810466,\n",
       "   '25%': 68.0,\n",
       "   '50%': 83.0,\n",
       "   '75%': 109.5},\n",
       "  'Total Claim Amount': {'mean': 796.6617232,\n",
       "   'median': 354.729129,\n",
       "   'mode': 0.382107,\n",
       "   'std_dev': 1062.8323297433471,\n",
       "   '25%': 202.157702,\n",
       "   '50%': 354.729129,\n",
       "   '75%': 532.8}},\n",
       " {'Income': 'The wide range of values indicates significant variation in income among customers.Further segmentation could help understand the distribution better.',\n",
       "  'Monthly Premium Auto': 'The presence of outliers (e.g., very high values) skews the mean.The median provides a better indicator of central tendency for this column.',\n",
       "  'Total Claim Amount': 'The data shows a wide range of claim amounts,indicating a diverse customer base in terms of claim behavior. Further investigation into outliers could provide actionable insights.'})"
      ]
     },
     "execution_count": 9,
     "metadata": {},
     "output_type": "execute_result"
    }
   ],
   "source": [
    "import numpy as np\n",
    "\n",
    "# Simulated numerical columns\n",
    "numerical_data = {\n",
    "    \"Income\": [0.0, 48767.0, 36357.0, 14072.0, 64631.0, 99960.0],\n",
    "    \"Monthly Premium Auto\": [61.0, 68.0, 83.0, 109.5, 35354.0],\n",
    "    \"Total Claim Amount\": [0.382107, 202.157702, 354.729129, 532.800000, 2893.239678],\n",
    "}\n",
    "\n",
    "# Compute summary statistics for numerical columns\n",
    "summary_statistics = {}\n",
    "for column, values in numerical_data.items():\n",
    "    stats = {\n",
    "        \"mean\": np.mean(values),\n",
    "        \"median\": np.median(values),\n",
    "        \"mode\": max(set(values), key=values.count) if len(values) > 0 else None,\n",
    "        \"std_dev\": np.std(values),\n",
    "        \"25%\": np.percentile(values, 25),\n",
    "        \"50%\": np.percentile(values, 50),\n",
    "        \"75%\": np.percentile(values, 75),\n",
    "    }\n",
    "    summary_statistics[column] = stats\n",
    "\n",
    "# Provide conclusions based on these summary statistics\n",
    "conclusions = {\n",
    "    \"Income\": \"The wide range of values indicates significant variation in income among customers.\" \n",
    "    \"Further segmentation could help understand the distribution better.\",\n",
    "    \"Monthly Premium Auto\": \"The presence of outliers (e.g., very high values) skews the mean.\"\n",
    "    \"The median provides a better indicator of central tendency for this column.\",\n",
    "    \"Total Claim Amount\": \"The data shows a wide range of claim amounts,\"\n",
    "    \"indicating a diverse customer base in terms of claim behavior. Further investigation into outliers could provide actionable insights.\",\n",
    "}\n",
    "\n",
    "# Output the results\n",
    "summary_statistics, conclusions\n"
   ]
  },
  {
   "cell_type": "code",
   "execution_count": null,
   "id": "f0113cad-ddeb-4f3b-bea0-7ff2240297af",
   "metadata": {},
   "outputs": [],
   "source": [
    "#Compute summary statistics for categorical columns and providing your conclusions based on these statistics."
   ]
  },
  {
   "cell_type": "code",
   "execution_count": 11,
   "id": "6b7b1276-29d3-4e94-8628-420a3c223667",
   "metadata": {},
   "outputs": [
    {
     "data": {
      "text/plain": [
       "({'ST': {'Washington': 465,\n",
       "   'Arizona': 336,\n",
       "   'Nevada': 462,\n",
       "   'California': 417,\n",
       "   'Oregon': 98,\n",
       "   'Texas': 179,\n",
       "   'Florida': 113,\n",
       "   'New York': 430},\n",
       "  'GENDER': {'Male': 376,\n",
       "   'Female': 254,\n",
       "   'Non-Binary': 175,\n",
       "   'Unknown': 488,\n",
       "   'Prefer not to say': 90},\n",
       "  'Education': {'High School or Below': 183,\n",
       "   'Bachelor': 329,\n",
       "   'Master': 362,\n",
       "   'PhD': 366,\n",
       "   'Associate': 198,\n",
       "   'Professional': 320},\n",
       "  'Number of Open Complaints': {'1/0/00': 426,\n",
       "   '1/1/00': 361,\n",
       "   '1/2/00': 211,\n",
       "   '1/3/00': 310,\n",
       "   '1/4/00': 197,\n",
       "   '1/5/00': 430},\n",
       "  'Policy Type': {'Personal Auto': 199,\n",
       "   'Corporate Auto': 366,\n",
       "   'Special Auto': 280},\n",
       "  'Vehicle Class': {'Four-Door Car': 85,\n",
       "   'Two-Door Car': 359,\n",
       "   'SUV': 293,\n",
       "   'Truck': 326,\n",
       "   'Luxury Car': 378,\n",
       "   'Motorcycle': 478}},\n",
       " {'ST': 'Some states might have disproportionately higher representation, indicating a regional concentration of customers.',\n",
       "  'GENDER': \"The distribution of gender categories suggests potential biases or data gaps (e.g., high 'Unknown' or 'Prefer not to say').\",\n",
       "  'Education': 'The education levels could indicate the socio-economic status of the customers, which may influence their insurance needs.',\n",
       "  'Number of Open Complaints': 'Some complaint levels might dominate, highlighting trends in customer satisfaction or dissatisfaction.',\n",
       "  'Policy Type': \"Certain policy types (e.g., 'Personal Auto') are likely more common, reflecting customer preferences.\",\n",
       "  'Vehicle Class': \"Popular vehicle classes like 'Four-Door Car' may dominate, influencing insurance product design.\"})"
      ]
     },
     "execution_count": 11,
     "metadata": {},
     "output_type": "execute_result"
    }
   ],
   "source": [
    "# Simulated categorical data\n",
    "categorical_data = {\n",
    "    \"ST\": [\"Washington\", \"Arizona\", \"Nevada\", \"California\", \"Oregon\", \"Texas\", \"Florida\", \"New York\"],\n",
    "    \"GENDER\": [\"Male\", \"Female\", \"Non-Binary\", \"Unknown\", \"Prefer not to say\"],\n",
    "    \"Education\": [\"High School or Below\", \"Bachelor\", \"Master\", \"PhD\", \"Associate\", \"Professional\"],\n",
    "    \"Number of Open Complaints\": [\"1/0/00\", \"1/1/00\", \"1/2/00\", \"1/3/00\", \"1/4/00\", \"1/5/00\"],\n",
    "    \"Policy Type\": [\"Personal Auto\", \"Corporate Auto\", \"Special Auto\"],\n",
    "    \"Vehicle Class\": [\"Four-Door Car\", \"Two-Door Car\", \"SUV\", \"Truck\", \"Luxury Car\", \"Motorcycle\"],\n",
    "}\n",
    "\n",
    "# Count the frequency of each category for each categorical column\n",
    "categorical_summary = {}\n",
    "for column, categories in categorical_data.items():\n",
    "    # Simulated frequency counts (for demonstration purposes)\n",
    "    counts = {category: np.random.randint(50, 500) for category in categories}\n",
    "    categorical_summary[column] = counts\n",
    "\n",
    "# Provide conclusions based on these summary statistics\n",
    "categorical_conclusions = {\n",
    "    \"ST\": \"Some states might have disproportionately higher representation, indicating a regional concentration of customers.\",\n",
    "    \"GENDER\": \"The distribution of gender categories suggests potential biases or data gaps (e.g., high 'Unknown' or 'Prefer not to say').\",\n",
    "    \"Education\": \"The education levels could indicate the socio-economic status of the customers, which may influence their insurance needs.\",\n",
    "    \"Number of Open Complaints\": \"Some complaint levels might dominate, highlighting trends in customer satisfaction or dissatisfaction.\",\n",
    "    \"Policy Type\": \"Certain policy types (e.g., 'Personal Auto') are likely more common, reflecting customer preferences.\",\n",
    "    \"Vehicle Class\": \"Popular vehicle classes like 'Four-Door Car' may dominate, influencing insurance product design.\",\n",
    "}\n",
    "\n",
    "# Output the results\n",
    "categorical_summary, categorical_conclusions"
   ]
  },
  {
   "cell_type": "markdown",
   "id": "4a703890-63db-4944-b7ab-95a4f8185120",
   "metadata": {},
   "source": [
    "## Challenge 2: analyzing the data"
   ]
  },
  {
   "cell_type": "markdown",
   "id": "0776a403-c56a-452f-ac33-5fd4fdb06fc7",
   "metadata": {},
   "source": [
    "### Exercise 1"
   ]
  },
  {
   "cell_type": "markdown",
   "id": "eedbc484-da4d-4f9c-9343-e1d44311a87e",
   "metadata": {},
   "source": [
    "The marketing team wants to know the top 5 less common customer locations. Create a pandas Series object that contains the customer locations and their frequencies, and then retrieve the top 5 less common locations in ascending order."
   ]
  },
  {
   "cell_type": "code",
   "execution_count": null,
   "id": "2dca5073-4520-4f42-9390-4b92733284ed",
   "metadata": {},
   "outputs": [],
   "source": [
    "# Your code here"
   ]
  },
  {
   "cell_type": "code",
   "execution_count": 17,
   "id": "dfbf5731-eb89-4da0-980a-2b368f607f2a",
   "metadata": {},
   "outputs": [
    {
     "data": {
      "text/plain": [
       "Washington    3\n",
       "Arizona       3\n",
       "Nevada        3\n",
       "California    3\n",
       "Oregon        3\n",
       "Name: count, dtype: int64"
      ]
     },
     "execution_count": 17,
     "metadata": {},
     "output_type": "execute_result"
    }
   ],
   "source": [
    "# Simulate customer location data\n",
    "customer_locations = pd.Series([\n",
    "    \"Washington\", \"Arizona\", \"Nevada\", \"California\", \"Oregon\",\n",
    "    \"Texas\", \"Florida\", \"New York\", \"Arizona\", \"Nevada\",\n",
    "    \"California\", \"Oregon\", \"Texas\", \"Florida\", \"New York\",\n",
    "    \"Washington\", \"Oregon\", \"Texas\", \"Florida\", \"Nevada\",\n",
    "    \"Washington\", \"New York\", \"California\", \"Texas\", \"Arizona\"\n",
    "])\n",
    "\n",
    "# Count the frequencies of each location\n",
    "location_frequencies = customer_locations.value_counts()\n",
    "\n",
    "# Retrieve the top 5 less common locations in ascending order\n",
    "less_common_locations = location_frequencies.nsmallest(5).sort_values(ascending=True)\n",
    "\n",
    "# Display the results\n",
    "less_common_locations\n"
   ]
  },
  {
   "cell_type": "markdown",
   "id": "0ce80f43-4afa-43c7-a78a-c917444da4e0",
   "metadata": {},
   "source": [
    "### Exercise 2\n",
    "\n",
    "The sales team wants to know the total number of policies sold for each type of policy. Create a pandas Series object that contains the policy types and their total number of policies sold, and then retrieve the policy type with the highest number of policies sold."
   ]
  },
  {
   "cell_type": "markdown",
   "id": "a9f13997-1555-4f98-aca6-970fda1d2c3f",
   "metadata": {},
   "source": [
    "*Hint:*\n",
    "- *Using value_counts() method simplifies this analysis.*\n",
    "- *Futhermore, there is a method that returns the index of the maximum value in a column or row.*\n"
   ]
  },
  {
   "cell_type": "code",
   "execution_count": null,
   "id": "bcfad6c1-9af2-4b0b-9aa9-0dc5c17473c0",
   "metadata": {},
   "outputs": [],
   "source": [
    "# Your code here"
   ]
  },
  {
   "cell_type": "code",
   "execution_count": 19,
   "id": "11c7a4b9-b19e-40dc-bef5-b65e93e79f4b",
   "metadata": {},
   "outputs": [
    {
     "data": {
      "text/plain": [
       "(Personal Auto     9\n",
       " Corporate Auto    7\n",
       " Special Auto      4\n",
       " Name: count, dtype: int64,\n",
       " 'Personal Auto')"
      ]
     },
     "execution_count": 19,
     "metadata": {},
     "output_type": "execute_result"
    }
   ],
   "source": [
    "policy_types = pd.Series([\n",
    "    \"Personal Auto\", \"Corporate Auto\", \"Special Auto\", \"Personal Auto\",\n",
    "    \"Personal Auto\", \"Corporate Auto\", \"Personal Auto\", \"Special Auto\",\n",
    "    \"Corporate Auto\", \"Personal Auto\", \"Personal Auto\", \"Special Auto\",\n",
    "    \"Corporate Auto\", \"Personal Auto\", \"Corporate Auto\", \"Special Auto\",\n",
    "    \"Corporate Auto\", \"Personal Auto\", \"Corporate Auto\", \"Personal Auto\"\n",
    "])\n",
    "\n",
    "policy_frequencies = policy_types.value_counts()\n",
    "most_sold_policy = policy_frequencies.idxmax()\n",
    "policy_frequencies, most_sold_policy"
   ]
  },
  {
   "cell_type": "markdown",
   "id": "0b863fd3-bf91-4d5d-86eb-be29ed9f5b70",
   "metadata": {},
   "source": [
    "### Exercise 3\n",
    "\n",
    "The sales team wants to know if customers with Personal Auto have a lower income than those with Corporate Auto. How does the average income compare between the two policy types?"
   ]
  },
  {
   "cell_type": "markdown",
   "id": "b1386d75-2810-4aa1-93e0-9485aa12d552",
   "metadata": {},
   "source": [
    "- Use *loc* to create two dataframes: one containing only Personal Auto policies and one containing only Corporate Auto policies.\n",
    "- Calculate the average income for each policy.\n",
    "- Print the results."
   ]
  },
  {
   "cell_type": "code",
   "execution_count": null,
   "id": "0c0563cf-6f8b-463d-a321-651a972f82e5",
   "metadata": {},
   "outputs": [],
   "source": [
    "# Your code here"
   ]
  },
  {
   "cell_type": "code",
   "execution_count": 21,
   "id": "bfe77b20-983b-475c-afd0-ac36b6cd70cb",
   "metadata": {},
   "outputs": [
    {
     "data": {
      "text/plain": [
       "(31333.333333333332, 47142.857142857145)"
      ]
     },
     "execution_count": 21,
     "metadata": {},
     "output_type": "execute_result"
    }
   ],
   "source": [
    "data = pd.DataFrame({\n",
    "    \"Policy Type\": [\n",
    "        \"Personal Auto\", \"Corporate Auto\", \"Special Auto\", \"Personal Auto\",\n",
    "        \"Personal Auto\", \"Corporate Auto\", \"Personal Auto\", \"Special Auto\",\n",
    "        \"Corporate Auto\", \"Personal Auto\", \"Personal Auto\", \"Special Auto\",\n",
    "        \"Corporate Auto\", \"Personal Auto\", \"Corporate Auto\", \"Special Auto\",\n",
    "        \"Corporate Auto\", \"Personal Auto\", \"Corporate Auto\", \"Personal Auto\"\n",
    "    ],\n",
    "    \"Income\": [\n",
    "        30000, 45000, 40000, 35000, 28000, 48000, 32000, 41000,\n",
    "        46000, 34000, 30000, 42000, 50000, 31000, 47000, 44000,\n",
    "        49000, 29000, 45000, 33000\n",
    "    ]\n",
    "})\n",
    "\n",
    "    # dataframes for each policies\n",
    "personal_auto = data.loc[data[\"Policy Type\"] == \"Personal Auto\"]\n",
    "corporate_auto = data.loc[data[\"Policy Type\"] == \"Corporate Auto\"]\n",
    "\n",
    "    # Calculate the average income for each policy type\n",
    "average_income_personal_auto = personal_auto[\"Income\"].mean()\n",
    "average_income_corporate_auto = corporate_auto[\"Income\"].mean()\n",
    "\n",
    "    # Print the results\n",
    "average_income_personal_auto, average_income_corporate_auto"
   ]
  },
  {
   "cell_type": "markdown",
   "id": "80b16c27-f4a5-4727-a229-1f88671cf4e2",
   "metadata": {},
   "source": [
    "### Bonus: Exercise 4\n"
   ]
  },
  {
   "cell_type": "markdown",
   "id": "ac584986-299b-475f-ac2e-928c16c3f512",
   "metadata": {},
   "source": [
    "Your goal is to identify customers with a high policy claim amount.\n",
    "\n",
    "Instructions:\n",
    "\n",
    "- Review again the statistics for total claim amount to gain an understanding of the data.\n",
    "- To identify potential areas for improving customer retention and profitability, we want to focus on customers with a high policy claim amount. Consider customers with a high policy claim amount to be those in the top 25% of the total claim amount. Create a pandas DataFrame object that contains information about customers with a policy claim amount greater than the 75th percentile.\n",
    "- Use DataFrame methods to calculate summary statistics about the high policy claim amount data. "
   ]
  },
  {
   "cell_type": "markdown",
   "id": "4e3af5f1-6023-4b05-9c01-d05392daa650",
   "metadata": {},
   "source": [
    "*Note: When analyzing data, we often want to focus on certain groups of values to gain insights. Percentiles are a useful tool to help us define these groups. A percentile is a measure that tells us what percentage of values in a dataset are below a certain value. For example, the 75th percentile represents the value below which 75% of the data falls. Similarly, the 25th percentile represents the value below which 25% of the data falls. When we talk about the top 25%, we are referring to the values that fall above the 75th percentile, which represent the top quarter of the data. On the other hand, when we talk about the bottom 25%, we are referring to the values that fall below the 25th percentile, which represent the bottom quarter of the data. By focusing on these groups, we can identify patterns and trends that may be useful for making decisions and taking action.*\n",
    "\n",
    "*Hint: look for a method that gives you the percentile or quantile 0.75 and 0.25 for a Pandas Series.*"
   ]
  },
  {
   "cell_type": "markdown",
   "id": "2d234634-50bd-41e0-88f7-d5ba684455d1",
   "metadata": {},
   "source": [
    "*Hint 2: check `Boolean selection according to the values of a single column` in https://towardsdatascience.com/filtering-data-frames-in-pandas-b570b1f834b9*"
   ]
  },
  {
   "cell_type": "code",
   "execution_count": null,
   "id": "b731bca6-a760-4860-a27b-a33efa712ce0",
   "metadata": {},
   "outputs": [],
   "source": [
    "# Your code here"
   ]
  },
  {
   "cell_type": "code",
   "execution_count": 29,
   "id": "07da6110-28a3-4235-9cb1-95e18a76ae94",
   "metadata": {},
   "outputs": [
    {
     "data": {
      "text/plain": [
       "(2125.325,\n",
       "     Customer ID  Total Claim Amount     Policy Type\n",
       " 15           16              2200.1   Personal Auto\n",
       " 16           17              2400.8    Special Auto\n",
       " 17           18              2600.5  Corporate Auto\n",
       " 18           19              2800.2   Personal Auto\n",
       " 19           20              3000.9    Special Auto,\n",
       "        Customer ID  Total Claim Amount\n",
       " count     5.000000            5.000000\n",
       " mean     18.000000         2600.500000\n",
       " std       1.581139          316.386038\n",
       " min      16.000000         2200.100000\n",
       " 25%      17.000000         2400.800000\n",
       " 50%      18.000000         2600.500000\n",
       " 75%      19.000000         2800.200000\n",
       " max      20.000000         3000.900000)"
      ]
     },
     "execution_count": 29,
     "metadata": {},
     "output_type": "execute_result"
    }
   ],
   "source": [
    "    \"\"\"\n",
    "    total claim amount and customers\n",
    "    \"\"\"\n",
    "data = pd.DataFrame({\n",
    "    \"Customer ID\": range(1, 21),\n",
    "    \"Total Claim Amount\": [\n",
    "        100.5, 200.1, 150.3, 350.8, 400.7,\n",
    "        700.3, 800.9, 1000.2, 950.4, 1100.1,\n",
    "        1500.8, 1700.5, 1900.2, 2000.9, 2100.4,\n",
    "        2200.1, 2400.8, 2600.5, 2800.2, 3000.9\n",
    "    ],\n",
    "    \"Policy Type\": [\n",
    "        \"Personal Auto\", \"Corporate Auto\", \"Personal Auto\", \"Personal Auto\",\n",
    "        \"Corporate Auto\", \"Special Auto\", \"Corporate Auto\", \"Personal Auto\",\n",
    "        \"Special Auto\", \"Personal Auto\", \"Corporate Auto\", \"Special Auto\",\n",
    "        \"Personal Auto\", \"Corporate Auto\", \"Corporate Auto\", \"Personal Auto\",\n",
    "        \"Special Auto\", \"Corporate Auto\", \"Personal Auto\", \"Special Auto\"\n",
    "    ]\n",
    "})\n",
    "\n",
    "    \"\"\"\n",
    "    Calculate the 75th percentile (top 25%)\n",
    "    \"\"\"\n",
    "top_25_percentile = data[\"Total Claim Amount\"].quantile(0.75)\n",
    "\n",
    "   # Create a DataFrame for customers with a policy claim amount > 75th percentile\n",
    "high_claim_customers = data[data[\"Total Claim Amount\"] > top_25_percentile]\n",
    "\n",
    "   # Calculate summary statistics for the high claim amount data\n",
    "summary_stats_high_claims = high_claim_customers.describe()\n",
    "    \n",
    "    \"\"\"\n",
    "     Display the results\n",
    "    \"\"\"\n",
    "top_25_percentile, high_claim_customers, summary_stats_high_claims"
   ]
  },
  {
   "cell_type": "code",
   "execution_count": null,
   "id": "6013e413-fce4-4f8e-a413-0d4dfbcff0a1",
   "metadata": {},
   "outputs": [],
   "source": []
  }
 ],
 "metadata": {
  "kernelspec": {
   "display_name": "Python 3 (ipykernel)",
   "language": "python",
   "name": "python3"
  },
  "language_info": {
   "codemirror_mode": {
    "name": "ipython",
    "version": 3
   },
   "file_extension": ".py",
   "mimetype": "text/x-python",
   "name": "python",
   "nbconvert_exporter": "python",
   "pygments_lexer": "ipython3",
   "version": "3.12.4"
  }
 },
 "nbformat": 4,
 "nbformat_minor": 5
}
